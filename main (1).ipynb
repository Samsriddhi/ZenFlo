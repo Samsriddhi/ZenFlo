{
 "cells": [
  {
   "cell_type": "code",
   "execution_count": 2,
   "id": "e92df417",
   "metadata": {},
   "outputs": [],
   "source": [
    "import h5py\n",
    "import numpy as np\n",
    "import matplotlib.pyplot as plt\n",
    "import warnings\n",
    "import pandas as pd\n",
    "import re\n",
    "import scipy\n",
    "\n",
    "\n",
    "import cv2\n",
    "import matplotlib.pyplot as plt\n",
    "import numpy as np\n",
    "from PIL import Image\n",
    "\n",
    "from fastapi import FastAPI, Request, HTTPException, UploadFile, File, Form\n",
    "from fastapi.responses import HTMLResponse, FileResponse\n",
    "from fastapi.staticfiles import StaticFiles\n",
    "from fastapi.templating import Jinja2Templates\n",
    "from io import BytesIO, StringIO\n",
    "import cv2\n",
    "import numpy as np\n",
    "import logging\n",
    "import tempfile\n",
    "import os\n",
    "from fastapi import FastAPI, File, UploadFile, HTTPException, Request\n",
    "from fastapi.responses import HTMLResponse\n",
    "from fastapi.staticfiles import StaticFiles\n",
    "from fastapi.templating import Jinja2Templates\n",
    "from PIL import Image, ImageDraw\n",
    "import os\n",
    "import cv2\n",
    "\n",
    "import base64\n",
    "\n",
    "\n"
   ]
  },
  {
   "cell_type": "code",
   "execution_count": 3,
   "id": "bf732a55",
   "metadata": {},
   "outputs": [
    {
     "name": "stdout",
     "output_type": "stream",
     "text": [
      "Requirement already satisfied: aiofiles in c:\\users\\envy\\anaconda3\\lib\\site-packages (22.1.0)\n",
      "Note: you may need to restart the kernel to use updated packages.\n"
     ]
    }
   ],
   "source": [
    "pip install aiofiles"
   ]
  },
  {
   "cell_type": "code",
   "execution_count": 4,
   "id": "e73c1f86",
   "metadata": {},
   "outputs": [
    {
     "name": "stdout",
     "output_type": "stream",
     "text": [
      "Requirement already satisfied: fastapi in c:\\users\\envy\\anaconda3\\lib\\site-packages (0.108.0)\n",
      "Requirement already satisfied: uvicorn in c:\\users\\envy\\anaconda3\\lib\\site-packages (0.25.0)\n",
      "Requirement already satisfied: pydantic!=1.8,!=1.8.1,!=2.0.0,!=2.0.1,!=2.1.0,<3.0.0,>=1.7.4 in c:\\users\\envy\\anaconda3\\lib\\site-packages (from fastapi) (2.5.3)\n",
      "Requirement already satisfied: starlette<0.33.0,>=0.29.0 in c:\\users\\envy\\anaconda3\\lib\\site-packages (from fastapi) (0.32.0.post1)\n",
      "Requirement already satisfied: typing-extensions>=4.8.0 in c:\\users\\envy\\anaconda3\\lib\\site-packages (from fastapi) (4.9.0)\n",
      "Requirement already satisfied: click>=7.0 in c:\\users\\envy\\anaconda3\\lib\\site-packages (from uvicorn) (8.0.4)\n",
      "Requirement already satisfied: h11>=0.8 in c:\\users\\envy\\anaconda3\\lib\\site-packages (from uvicorn) (0.14.0)\n",
      "Requirement already satisfied: colorama in c:\\users\\envy\\anaconda3\\lib\\site-packages (from click>=7.0->uvicorn) (0.4.6)\n",
      "Requirement already satisfied: annotated-types>=0.4.0 in c:\\users\\envy\\anaconda3\\lib\\site-packages (from pydantic!=1.8,!=1.8.1,!=2.0.0,!=2.0.1,!=2.1.0,<3.0.0,>=1.7.4->fastapi) (0.6.0)\n",
      "Requirement already satisfied: pydantic-core==2.14.6 in c:\\users\\envy\\anaconda3\\lib\\site-packages (from pydantic!=1.8,!=1.8.1,!=2.0.0,!=2.0.1,!=2.1.0,<3.0.0,>=1.7.4->fastapi) (2.14.6)\n",
      "Requirement already satisfied: anyio<5,>=3.4.0 in c:\\users\\envy\\anaconda3\\lib\\site-packages (from starlette<0.33.0,>=0.29.0->fastapi) (3.5.0)\n",
      "Requirement already satisfied: idna>=2.8 in c:\\users\\envy\\anaconda3\\lib\\site-packages (from anyio<5,>=3.4.0->starlette<0.33.0,>=0.29.0->fastapi) (3.4)\n",
      "Requirement already satisfied: sniffio>=1.1 in c:\\users\\envy\\anaconda3\\lib\\site-packages (from anyio<5,>=3.4.0->starlette<0.33.0,>=0.29.0->fastapi) (1.2.0)\n",
      "Note: you may need to restart the kernel to use updated packages.\n"
     ]
    }
   ],
   "source": [
    "pip install fastapi uvicorn"
   ]
  },
  {
   "cell_type": "code",
   "execution_count": 5,
   "id": "a372d49f",
   "metadata": {},
   "outputs": [
    {
     "name": "stdout",
     "output_type": "stream",
     "text": [
      "Requirement already satisfied: openai in c:\\users\\envy\\anaconda3\\lib\\site-packages (0.28.0)\n",
      "Requirement already satisfied: requests>=2.20 in c:\\users\\envy\\anaconda3\\lib\\site-packages (from openai) (2.31.0)\n",
      "Requirement already satisfied: tqdm in c:\\users\\envy\\anaconda3\\lib\\site-packages (from openai) (4.65.0)\n",
      "Requirement already satisfied: aiohttp in c:\\users\\envy\\anaconda3\\lib\\site-packages (from openai) (3.8.3)\n",
      "Requirement already satisfied: charset-normalizer<4,>=2 in c:\\users\\envy\\anaconda3\\lib\\site-packages (from requests>=2.20->openai) (2.0.4)\n",
      "Requirement already satisfied: idna<4,>=2.5 in c:\\users\\envy\\anaconda3\\lib\\site-packages (from requests>=2.20->openai) (3.4)\n",
      "Requirement already satisfied: urllib3<3,>=1.21.1 in c:\\users\\envy\\anaconda3\\lib\\site-packages (from requests>=2.20->openai) (1.26.16)\n",
      "Requirement already satisfied: certifi>=2017.4.17 in c:\\users\\envy\\anaconda3\\lib\\site-packages (from requests>=2.20->openai) (2023.11.17)\n",
      "Requirement already satisfied: attrs>=17.3.0 in c:\\users\\envy\\anaconda3\\lib\\site-packages (from aiohttp->openai) (22.1.0)\n",
      "Requirement already satisfied: multidict<7.0,>=4.5 in c:\\users\\envy\\anaconda3\\lib\\site-packages (from aiohttp->openai) (6.0.2)\n",
      "Requirement already satisfied: async-timeout<5.0,>=4.0.0a3 in c:\\users\\envy\\anaconda3\\lib\\site-packages (from aiohttp->openai) (4.0.2)\n",
      "Requirement already satisfied: yarl<2.0,>=1.0 in c:\\users\\envy\\anaconda3\\lib\\site-packages (from aiohttp->openai) (1.8.1)\n",
      "Requirement already satisfied: frozenlist>=1.1.1 in c:\\users\\envy\\anaconda3\\lib\\site-packages (from aiohttp->openai) (1.3.3)\n",
      "Requirement already satisfied: aiosignal>=1.1.2 in c:\\users\\envy\\anaconda3\\lib\\site-packages (from aiohttp->openai) (1.2.0)\n",
      "Requirement already satisfied: colorama in c:\\users\\envy\\anaconda3\\lib\\site-packages (from tqdm->openai) (0.4.6)\n",
      "Note: you may need to restart the kernel to use updated packages.\n"
     ]
    }
   ],
   "source": [
    "pip install openai\n"
   ]
  },
  {
   "cell_type": "code",
   "execution_count": 6,
   "id": "e6c080d8",
   "metadata": {},
   "outputs": [],
   "source": [
    "from fastapi import FastAPI\n",
    "import openai"
   ]
  },
  {
   "cell_type": "code",
   "execution_count": 8,
   "id": "e19b8bd2",
   "metadata": {},
   "outputs": [
    {
     "name": "stdout",
     "output_type": "stream",
     "text": [
      "Requirement already satisfied: openai==0.28 in c:\\users\\envy\\anaconda3\\lib\\site-packages (0.28.0)\n",
      "Requirement already satisfied: requests>=2.20 in c:\\users\\envy\\anaconda3\\lib\\site-packages (from openai==0.28) (2.31.0)\n",
      "Requirement already satisfied: tqdm in c:\\users\\envy\\anaconda3\\lib\\site-packages (from openai==0.28) (4.65.0)\n",
      "Requirement already satisfied: aiohttp in c:\\users\\envy\\anaconda3\\lib\\site-packages (from openai==0.28) (3.8.3)\n",
      "Requirement already satisfied: charset-normalizer<4,>=2 in c:\\users\\envy\\anaconda3\\lib\\site-packages (from requests>=2.20->openai==0.28) (2.0.4)\n",
      "Requirement already satisfied: idna<4,>=2.5 in c:\\users\\envy\\anaconda3\\lib\\site-packages (from requests>=2.20->openai==0.28) (3.4)\n",
      "Requirement already satisfied: urllib3<3,>=1.21.1 in c:\\users\\envy\\anaconda3\\lib\\site-packages (from requests>=2.20->openai==0.28) (1.26.16)\n",
      "Requirement already satisfied: certifi>=2017.4.17 in c:\\users\\envy\\anaconda3\\lib\\site-packages (from requests>=2.20->openai==0.28) (2023.11.17)\n",
      "Requirement already satisfied: attrs>=17.3.0 in c:\\users\\envy\\anaconda3\\lib\\site-packages (from aiohttp->openai==0.28) (22.1.0)\n",
      "Requirement already satisfied: multidict<7.0,>=4.5 in c:\\users\\envy\\anaconda3\\lib\\site-packages (from aiohttp->openai==0.28) (6.0.2)\n",
      "Requirement already satisfied: async-timeout<5.0,>=4.0.0a3 in c:\\users\\envy\\anaconda3\\lib\\site-packages (from aiohttp->openai==0.28) (4.0.2)\n",
      "Requirement already satisfied: yarl<2.0,>=1.0 in c:\\users\\envy\\anaconda3\\lib\\site-packages (from aiohttp->openai==0.28) (1.8.1)\n",
      "Requirement already satisfied: frozenlist>=1.1.1 in c:\\users\\envy\\anaconda3\\lib\\site-packages (from aiohttp->openai==0.28) (1.3.3)\n",
      "Requirement already satisfied: aiosignal>=1.1.2 in c:\\users\\envy\\anaconda3\\lib\\site-packages (from aiohttp->openai==0.28) (1.2.0)\n",
      "Requirement already satisfied: colorama in c:\\users\\envy\\anaconda3\\lib\\site-packages (from tqdm->openai==0.28) (0.4.6)\n",
      "Note: you may need to restart the kernel to use updated packages.\n"
     ]
    }
   ],
   "source": [
    "pip install openai==0.28"
   ]
  },
  {
   "cell_type": "code",
   "execution_count": 13,
   "id": "4e6ba279",
   "metadata": {},
   "outputs": [
    {
     "name": "stdout",
     "output_type": "stream",
     "text": [
      "\"Nagasana\" is a Sanskrit term that refers to the yoga pose commonly known as \"the cobra pose\". This pose involves lying down on your stomach and using your hands to lift your chest off the ground, while keeping your hips and legs pressed firmly into the floor. The pose is commonly used in yoga to help increase spinal flexibility and strengthen the muscles of the back and core.\n"
     ]
    }
   ],
   "source": [
    "openai.api_key = 'e88a6209068a430a8cba0fede006b220'\n",
    "openai.api_base =  'https://imaginemvp-zenflo.openai.azure.com/' \n",
    "openai.api_type = 'azure' # Necessary for using the OpenAI library with Azure OpenAI\n",
    "openai.api_version = '2023-12-01-preview' # Latest / target version of the API\n",
    "\n",
    "deployment_name = 'Trial'\n",
    "prompt=\"What is nagasana\"\n",
    "\n",
    "response = openai.ChatCompletion.create(\n",
    "    engine=deployment_name,\n",
    "    messages=[\n",
    "        {\"role\": \"system\", \"content\": \"You are a helpful assistant.\"},\n",
    "        {\"role\": \"user\", \"content\": prompt}\n",
    "    ]\n",
    ")\n",
    "\n",
    "print((response['choices'][0]['message']['content']))"
   ]
  },
  {
   "cell_type": "code",
   "execution_count": 10,
   "id": "81390622",
   "metadata": {},
   "outputs": [],
   "source": [
    "from pydantic import BaseModel\n",
    "from fastapi import FastAPI\n",
    "from fastapi.responses import HTMLResponse\n",
    "from fastapi.requests import Request\n",
    "from fastapi.templating import Jinja2Templates\n",
    "\n",
    "app = FastAPI()\n",
    "templates = Jinja2Templates(directory=r\"C:\\Users\\envy\\OneDrive\\Desktop\\Templates\")\n",
    "\n",
    "class SymptomData(BaseModel):\n",
    "    symptoms: str\n",
    "\n",
    "class LocationData(BaseModel):\n",
    "    location: str\n",
    "\n",
    "openai.api_key = 'e88a6209068a430a8cba0fede006b220'\n",
    "openai.api_base =  'https://imaginemvp-zenflo.openai.azure.com/' \n",
    "openai.api_type = 'azure' \n",
    "openai.api_version = '2023-12-01-preview' \n",
    "\n",
    "deployment_name = 'Trial'\n",
    "\n",
    "@app.get(\"/\", response_class=HTMLResponse)\n",
    "async def read_root(request: Request):\n",
    "    return templates.TemplateResponse(\"index.html\", {\"request\": request})\n",
    "    \n",
    "\n",
    "@app.post(\"/get_asana\")\n",
    "async def get_asana(symptom_data: SymptomData):\n",
    "    prompt = symptom_data.symptoms\n",
    "    response = openai.ChatCompletion.create(\n",
    "        engine=deployment_name,\n",
    "        messages=[\n",
    "            {\"role\": \"system\", \"content\": '''You are a Yoga AI assistant that gives answers always in 2 or 3 bullet points.\n",
    "            If the user enters a symptom, body part or a specific area of body where the user is suffering pain, then give the user ⅔ recommendations for yoga asanas, in bullet points for separate headings of the descriptions, benefits, contradictions if any.\n",
    "            If the user enters a location  north/east/west/south/central, he means  yoga studios in north/east/west/south/central Singapore so if the user enters central it means central Singapore, north means north Singapore, west means west Singapore, east means east Singapore, south means south Singapore. Refer to the dataset column N/S/E/W then to give the user ⅔ yoga studio recommendations in bullet points with address. Do not recommend the user to use a search engine.\n",
    "            For example, if the user enters knee pain, search data sources and tell them top 2 yoga asanas for it and their entire details from the data source. If they enter Jurong, you tell them that Jurong is in West singapore and according to dataset these are the top 2 yoga studios in west singapore. If the user asks something not in the dataset, don't tell the user that they've asked something out of data sources, just tell them the answer you would've otherwise if the data sources were not there, again in 2/3 pointers.\n",
    "            STRICTLY, do not ever display ' The requested information is not available in the retrieved data. Please try another query or topic', if there is such a case then just give the answer that you would have just using your LLM training'''}, \n",
    "            {\"role\": \"user\", \"content\": prompt}\n",
    "        ]\n",
    "    )\n",
    "    asana = response['choices'][0]['message']['content']\n",
    "    return {\"asana\": asana}\n",
    "\n",
    "@app.post(\"/find_studio\")\n",
    "async def find_studio(location_data: LocationData):\n",
    "    prompt = location_data.location\n",
    "    response = openai.ChatCompletion.create(\n",
    "        engine=deployment_name,\n",
    "        messages=[\n",
    "            {\"role\": \"system\", \"content\": '''You are a Yoga AI assistant that gives answers always in 2 or 3 bullet points.\n",
    "            If the user enters a symptom, body part or a specific area of body where the user is suffering pain, then give the user ⅔ recommendations for yoga asanas, in bullet points for separate headings of the descriptions, benefits, contradictions if any.\n",
    "            If the user enters a location  north/east/west/south/central, he means  yoga studios in north/east/west/south/central Singapore so if the user enters central it means central Singapore, north means north Singapore, west means west Singapore, east means east Singapore, south means south Singapore. Refer to the dataset column N/S/E/W then to give the user ⅔ yoga studio recommendations in bullet points with address. Do not recommend the user to use a search engine.\n",
    "            For example, if the user enters knee pain, search data sources and tell them top 2 yoga asanas for it and their entire details from the data source. If they enter Jurong, you tell them that Jurong is in West singapore and according to dataset these are the top 2 yoga studios in west singapore. If the user asks something not in the dataset, don't tell the user that they've asked something out of data sources, just tell them the answer you would've otherwise if the data sources were not there, again in 2/3 pointers.\n",
    "            STRICTLY, do not ever display ' The requested information is not available in the retrieved data. Please try another query or topic', if there is such a case then just give the answer that you would have just using your LLM training'''}, \n",
    "            {\"role\": \"user\", \"content\": prompt}\n",
    "        ]\n",
    "    )\n",
    "    location = response['choices'][0]['message']['content']\n",
    "    return {\"location\": location}\n"
   ]
  },
  {
   "cell_type": "code",
   "execution_count": 11,
   "id": "54d393fc",
   "metadata": {},
   "outputs": [
    {
     "name": "stderr",
     "output_type": "stream",
     "text": [
      "INFO:     Started server process [26360]\n",
      "INFO:     Waiting for application startup.\n",
      "INFO:     Application startup complete.\n",
      "INFO:     Uvicorn running on http://127.0.0.1:8000 (Press CTRL+C to quit)\n"
     ]
    },
    {
     "name": "stdout",
     "output_type": "stream",
     "text": [
      "INFO:     127.0.0.1:60361 - \"GET / HTTP/1.1\" 200 OK\n",
      "INFO:     127.0.0.1:60361 - \"GET /favicon.ico HTTP/1.1\" 404 Not Found\n"
     ]
    },
    {
     "name": "stderr",
     "output_type": "stream",
     "text": [
      "INFO:     Shutting down\n",
      "INFO:     Waiting for application shutdown.\n",
      "INFO:     Application shutdown complete.\n",
      "INFO:     Finished server process [26360]\n"
     ]
    }
   ],
   "source": [
    "import nest_asyncio\n",
    "import uvicorn\n",
    "\n",
    "if __name__ == \"__main__\":\n",
    "    nest_asyncio.apply()\n",
    "    uvicorn.run(app)"
   ]
  }
 ],
 "metadata": {
  "kernelspec": {
   "display_name": "Python 3 (ipykernel)",
   "language": "python",
   "name": "python3"
  },
  "language_info": {
   "codemirror_mode": {
    "name": "ipython",
    "version": 3
   },
   "file_extension": ".py",
   "mimetype": "text/x-python",
   "name": "python",
   "nbconvert_exporter": "python",
   "pygments_lexer": "ipython3",
   "version": "3.11.4"
  }
 },
 "nbformat": 4,
 "nbformat_minor": 5
}
